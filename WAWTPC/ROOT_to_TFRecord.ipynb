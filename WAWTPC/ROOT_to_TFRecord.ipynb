{
 "cells": [
  {
   "cell_type": "markdown",
   "metadata": {},
   "source": [
    "## Workspace setup"
   ]
  },
  {
   "cell_type": "code",
   "execution_count": 3,
   "metadata": {
    "tags": []
   },
   "outputs": [
    {
     "name": "stderr",
     "output_type": "stream",
     "text": [
      "2023-11-26 08:16:34.347675: I tensorflow/core/platform/cpu_feature_guard.cc:182] This TensorFlow binary is optimized to use available CPU instructions in performance-critical operations.\n",
      "To enable the following instructions: FMA, in other operations, rebuild TensorFlow with the appropriate compiler flags.\n"
     ]
    }
   ],
   "source": [
    "from multiprocessing import Process, Queue\n",
    "import tensorflow as tf\n",
    "import numpy as np\n",
    "from os.path import isfile\n",
    "import io_functions as io\n",
    "\n",
    "\n",
    "from tensorflow.data import Dataset, TFRecordDataset\n",
    "from tensorflow.io import TFRecordWriter, TFRecordOptions\n",
    "from tensorflow.train import BytesList, FloatList, Int64List\n",
    "from tensorflow.train import Example, Features, Feature\n",
    "\n",
    "from tensorflow.python.ops.numpy_ops import np_config\n",
    "np_config.enable_numpy_behavior()"
   ]
  },
  {
   "cell_type": "markdown",
   "metadata": {},
   "source": [
    "## TFRecord creation"
   ]
  },
  {
   "cell_type": "code",
   "execution_count": 4,
   "metadata": {},
   "outputs": [],
   "source": [
    "def _bytes_feature(value):\n",
    "  \"\"\"Returns a bytes_list from a string / byte.\"\"\"\n",
    "  if isinstance(value, type(tf.constant(0))):\n",
    "    value = value.numpy() # BytesList won't unpack a string from an EagerTensor.\n",
    "  return tf.train.Feature(bytes_list=tf.train.BytesList(value=[value]))\n",
    "\n",
    "def serialize(charge_array, target):\n",
    "  feature = {'myChargeArray' : _bytes_feature(tf.io.serialize_tensor(charge_array)),\n",
    "             'target' : _bytes_feature(tf.io.serialize_tensor(target))}\n",
    "  example = tf.train.Example(features=tf.train.Features(feature=feature))\n",
    "  return example.SerializeToString()\n",
    "\n",
    "def conversion(filename, queue):\n",
    "    options = TFRecordOptions(compression_type='GZIP')\n",
    "    writer = TFRecordWriter(filename, options=options)\n",
    "    while True:\n",
    "        item = queue.get()\n",
    "        if item == None:\n",
    "            break\n",
    "        charge_array, target = item\n",
    "        charge_array= io.proc_features(charge_array)\n",
    "        \n",
    "        example = serialize(charge_array, target)\n",
    "        writer.write(example)"
   ]
  },
  {
   "cell_type": "code",
   "execution_count": 29,
   "metadata": {},
   "outputs": [],
   "source": [
    "def XYZtoUVWT(data):\n",
    "    referencePoint = tf.constant([-138.9971, 98.25])\n",
    "    phi = np.pi/6.0\n",
    "    stripPitch = 1.5\n",
    "    f = 1.0/25*6.46\n",
    "    u = -(data[:, 1]-99.75)\n",
    "    v = (data[:, 0]-referencePoint[0]) * np.cos(phi) - (data[:, 1]-referencePoint[1]) * np.sin(phi)\n",
    "    w = (data[:, 0]-referencePoint[0]) * np.cos(-phi) - (data[:, 1]-referencePoint[1]) * np.sin(-phi) + 98.75\n",
    "    t = data[:, 2]/f + 256\n",
    "    u/=stripPitch\n",
    "    v/=stripPitch\n",
    "    w/=stripPitch\n",
    "    return tf.stack([u,v,w,t], axis=0).T\n",
    "\n",
    "def conversion_uvwt(filename, queue):\n",
    "    options = TFRecordOptions(compression_type='GZIP')\n",
    "    writer = TFRecordWriter(filename, options=options)\n",
    "    scale = 100\n",
    "    n_projections = 3\n",
    "    while True:\n",
    "        item = queue.get()\n",
    "        if item == None:\n",
    "            break\n",
    "\n",
    "        myChargeArray, target = item\n",
    "        charge_array= io.proc_features(myChargeArray)\n",
    "\n",
    "        uvwt_1 = XYZtoUVWT(scale*target[:, 0:3])\n",
    "        uvwt_2 = XYZtoUVWT(scale*target[:, 3:6])\n",
    "        uvwt_3 = XYZtoUVWT(scale*target[:, 6:9])\n",
    "\n",
    "        for projection in range(n_projections):\n",
    "          points = tf.stack([\n",
    "              uvwt_1[:, 3], uvwt_1[:, projection],\n",
    "              uvwt_2[:, 3], uvwt_2[:, projection],\n",
    "              uvwt_3[:, 3], uvwt_3[:, projection]\n",
    "              ]).T\n",
    "          example = serialize(charge_array[:, :, :, projection], points)\n",
    "          writer.write(example)"
   ]
  },
  {
   "cell_type": "code",
   "execution_count": 28,
   "metadata": {},
   "outputs": [],
   "source": [
    "def process_and_save(output_files, datasetGenerator, conversion_function):\n",
    "    nFiles = len(output_files)\n",
    "                 \n",
    "    for file in output_files:\n",
    "        if isfile(file):\n",
    "            raise Exception('output file already exists')\n",
    "    \n",
    "    if __name__ == '__main__':\n",
    "        processes = []\n",
    "        q = Queue(2*nFiles)\n",
    "\n",
    "        for name in output_files:\n",
    "            p = Process(target=conversion_function, args=(name, q))\n",
    "            processes.append(p)\n",
    "            p.start()\n",
    "            print(p.name + ' started')\n",
    "    \n",
    "        counter = 0\n",
    "        for item in datasetGenerator:\n",
    "            q.put(item)\n",
    "            counter+=1\n",
    "            if counter%100 == 0:\n",
    "                print(f'read {counter} batches')\n",
    "    \n",
    "        for _ in range(nFiles):\n",
    "            q.put(None)\n",
    "        \n",
    "        for p in processes:\n",
    "            p.join()\n",
    "            print(p.name + ' done')"
   ]
  },
  {
   "cell_type": "code",
   "execution_count": 30,
   "metadata": {},
   "outputs": [],
   "source": [
    "dataPath = '/scratch/pszyc/'\n",
    "input_files = [dataPath+'out_random_sigma2k2mm.root:TPCData']\n",
    "batchSize = 5\n",
    "nFiles = 5 # number of output files, equal to number of processes\n",
    "output_files = [dataPath + 'test/' + f\"out_random_sigma2k2mm-part-{i}.tfrecord\" for i in range(nFiles)]\n",
    "datasetGenerator = io.minimal_generator(files=input_files, batchSize=batchSize)"
   ]
  },
  {
   "cell_type": "code",
   "execution_count": 31,
   "metadata": {},
   "outputs": [
    {
     "name": "stdout",
     "output_type": "stream",
     "text": [
      "Process-11 started\n",
      "Process-12 started\n",
      "Process-13 started\n",
      "Process-14 started\n",
      "Process-15 started\n",
      "read 100 batches\n",
      "read 200 batches\n",
      "read 300 batches\n",
      "read 400 batches\n",
      "Process-11 done\n",
      "Process-12 done\n",
      "Process-13 done\n",
      "Process-14 done\n",
      "Process-15 done\n",
      "CPU times: user 35.7 s, sys: 21.2 s, total: 56.9 s\n",
      "Wall time: 47.3 s\n"
     ]
    }
   ],
   "source": [
    "%%time\n",
    "process_and_save(output_files, datasetGenerator, conversion_uvwt)"
   ]
  },
  {
   "cell_type": "markdown",
   "metadata": {},
   "source": [
    "### Read TFRecord"
   ]
  },
  {
   "cell_type": "code",
   "execution_count": 32,
   "metadata": {},
   "outputs": [],
   "source": [
    "filenames = [dataPath +\"test/\"+ f\"out_random_sigma2k2mm-part-{i}.tfrecord\" for i in range(5)]\n",
    "train_dataset = tf.data.TFRecordDataset(filenames, compression_type='GZIP', num_parallel_reads=5)\n",
    "\n",
    "# Create a description of the features.\n",
    "feature_description = {\n",
    "    'myChargeArray': tf.io.FixedLenFeature([], tf.string),\n",
    "    'target': tf.io.FixedLenFeature([], tf.string),\n",
    "\n",
    "}\n",
    "\n",
    "def _parse_function(example_proto):\n",
    "  # Parse the input `tf.train.Example` proto using the dictionary above.\n",
    "    parsed_features = tf.io.parse_single_example(example_proto, feature_description)\n",
    "    charge, target = parsed_features['myChargeArray'], parsed_features['target']\n",
    "    # decode from bytes\n",
    "    charge = tf.io.parse_tensor(charge, tf.float64)\n",
    "    target = tf.io.parse_tensor(target, tf.float64)\n",
    "    \n",
    "    return charge, target\n",
    "\n",
    "def shape_items(charge, target):\n",
    "    charge.set_shape(charge_shape)\n",
    "    target.set_shape(target_shape)\n",
    "    return charge, target\n",
    "\n",
    "train_dataset = train_dataset.map(_parse_function, num_parallel_calls=tf.data.AUTOTUNE)\n",
    "train_dataset = train_dataset.unbatch()\n",
    "train_dataset = train_dataset.batch(batchSize)"
   ]
  },
  {
   "cell_type": "code",
   "execution_count": 35,
   "metadata": {},
   "outputs": [
    {
     "data": {
      "image/png": "[encoded data removed]",
      "text/plain": [
       "<Figure size 640x480 with 1 Axes>"
      ]
     },
     "metadata": {},
     "output_type": "display_data"
    }
   ],
   "source": [
    "import matplotlib.pyplot as plt\n",
    "for charge, target in train_dataset.take(1):\n",
    "    points = target[0, :].reshape(3, 2)\n",
    "    plt.imshow(charge[0, :, :])\n",
    "    plt.scatter(points[:, 0], points[:, 1])"
   ]
  }
 ],
 "metadata": {
  "kernelspec": {
   "display_name": "Python 3 (ipykernel)",
   "language": "python",
   "name": "python3"
  },
  "language_info": {
   "codemirror_mode": {
    "name": "ipython",
    "version": 3
   },
   "file_extension": ".py",
   "mimetype": "text/x-python",
   "name": "python",
   "nbconvert_exporter": "python",
   "pygments_lexer": "ipython3",
   "version": "3.8.10"
  }
 },
 "nbformat": 4,
 "nbformat_minor": 4
}

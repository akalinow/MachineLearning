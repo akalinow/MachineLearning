{
 "cells": [
  {
   "cell_type": "markdown",
   "metadata": {},
   "source": [
    "## Workspace setup"
   ]
  },
  {
   "cell_type": "code",
   "execution_count": 1,
   "metadata": {
    "tags": []
   },
   "outputs": [
    {
     "name": "stderr",
     "output_type": "stream",
     "text": [
      "2023-11-14 22:47:55.381630: I tensorflow/core/platform/cpu_feature_guard.cc:182] This TensorFlow binary is optimized to use available CPU instructions in performance-critical operations.\n",
      "To enable the following instructions: FMA, in other operations, rebuild TensorFlow with the appropriate compiler flags.\n"
     ]
    }
   ],
   "source": [
    "from datetime import datetime \n",
    "import uproot\n",
    "import awkward as ak\n",
    "import tensorflow as tf\n",
    "import numpy as np\n",
    "import importlib\n",
    "from functools import partial\n",
    "from os.path import isfile\n",
    "import io_functions as io\n",
    "\n",
    "\n",
    "from tensorflow.data import Dataset, TFRecordDataset\n",
    "from tensorflow.io import TFRecordWriter, TFRecordOptions\n",
    "from tensorflow.train import BytesList, FloatList, Int64List\n",
    "from tensorflow.train import Example, Features, Feature\n",
    "\n",
    "from tensorflow.python.ops.numpy_ops import np_config\n",
    "np_config.enable_numpy_behavior()"
   ]
  },
  {
   "cell_type": "markdown",
   "metadata": {},
   "source": [
    "## TFRecord creation"
   ]
  },
  {
   "cell_type": "code",
   "execution_count": 2,
   "metadata": {},
   "outputs": [],
   "source": [
    "def _bytes_feature(value):\n",
    "  \"\"\"Returns a bytes_list from a string / byte.\"\"\"\n",
    "  if isinstance(value, type(tf.constant(0))):\n",
    "    value = value.numpy() # BytesList won't unpack a string from an EagerTensor.\n",
    "  return tf.train.Feature(bytes_list=tf.train.BytesList(value=[value]))"
   ]
  },
  {
   "cell_type": "code",
   "execution_count": 5,
   "metadata": {},
   "outputs": [
    {
     "name": "stdout",
     "output_type": "stream",
     "text": [
      "CPU times: user 2.19 ms, sys: 156 µs, total: 2.35 ms\n",
      "Wall time: 1.48 ms\n"
     ]
    }
   ],
   "source": [
    "%%time\n",
    "\n",
    "importlib.reload(io)\n",
    "\n",
    "dataPath = '/scratch/szslaw/'\n",
    "train_files = [dataPath+'out_random_sigma-001.root:TPCData']\n",
    "batchSize = 1\n",
    "\n",
    "datasetGenerator = io.generator(files=train_files, batchSize=batchSize)"
   ]
  },
  {
   "cell_type": "code",
   "execution_count": 6,
   "metadata": {},
   "outputs": [],
   "source": [
    "def serialize(charge_array, target):\n",
    "  feature = {'myChargeArray' : _bytes_feature(charge_array.tobytes()),\n",
    "             'target' : _bytes_feature(target.tobytes())}\n",
    "  example = tf.train.Example(features=tf.train.Features(feature=feature))\n",
    "  return example.SerializeToString()"
   ]
  },
  {
   "cell_type": "code",
   "execution_count": 7,
   "metadata": {},
   "outputs": [
    {
     "name": "stderr",
     "output_type": "stream",
     "text": [
      "2023-11-14 19:42:48.972928: E tensorflow/compiler/xla/stream_executor/cuda/cuda_driver.cc:268] failed call to cuInit: UNKNOWN ERROR (34)\n"
     ]
    },
    {
     "name": "stdout",
     "output_type": "stream",
     "text": [
      "CPU times: user 2h 9min 24s, sys: 1min 10s, total: 2h 10min 35s\n",
      "Wall time: 2h 10min 53s\n"
     ]
    }
   ],
   "source": [
    "%%time\n",
    "\n",
    "outputFile = 'out_random_sigma-001.tfrecord'\n",
    "\n",
    "if isfile(dataPath + outputFile):\n",
    "    raise Exception('outputFile already exists')\n",
    "\n",
    "options = TFRecordOptions(compression_type='GZIP')\n",
    "\n",
    "writer = TFRecordWriter(dataPath + outputFile, options=options)\n",
    "for charge_array, target in datasetGenerator:\n",
    "  example = serialize(charge_array, target)\n",
    "  writer.write(example)"
   ]
  },
  {
   "cell_type": "markdown",
   "metadata": {},
   "source": [
    "### Read TFRecord"
   ]
  },
  {
   "cell_type": "code",
   "execution_count": 6,
   "metadata": {},
   "outputs": [],
   "source": [
    "raw_dataset = TFRecordDataset(dataPath + 'out_random_sigma-001.tfrecord', compression_type='GZIP')\n",
    "\n",
    "# Create a description of the features.\n",
    "feature_description = {\n",
    "    'myChargeArray': tf.io.FixedLenFeature([], tf.string),\n",
    "    'target': tf.io.FixedLenFeature([], tf.string),\n",
    "\n",
    "}\n",
    "\n",
    "def _parse_function(example_proto, batchSize):\n",
    "  # Parse the input `tf.train.Example` proto using the dictionary above.\n",
    "    parsed_features = tf.io.parse_single_example(example_proto, feature_description)\n",
    "    charge, target = parsed_features['myChargeArray'], parsed_features['target']\n",
    "    # decode from bytes\n",
    "    charge = tf.io.decode_raw(charge, 'float64')\n",
    "    target = tf.io.decode_raw(target, 'float64')\n",
    "    # reshape\n",
    "    charge = charge.reshape([batchSize, 256, 512, 3])\n",
    "    target = target.reshape([batchSize, 9])\n",
    "    \n",
    "    return charge, target\n",
    "\n",
    "parser = partial(_parse_function, batchSize=batchSize)\n",
    "\n",
    "parsed_dataset = raw_dataset.map(parser)\n"
   ]
  }
 ],
 "metadata": {
  "kernelspec": {
   "display_name": "Python 3 (ipykernel)",
   "language": "python",
   "name": "python3"
  },
  "language_info": {
   "codemirror_mode": {
    "name": "ipython",
    "version": 3
   },
   "file_extension": ".py",
   "mimetype": "text/x-python",
   "name": "python",
   "nbconvert_exporter": "python",
   "pygments_lexer": "ipython3",
   "version": "3.8.10"
  }
 },
 "nbformat": 4,
 "nbformat_minor": 4
}
